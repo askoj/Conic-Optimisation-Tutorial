{
 "cells": [
  {
   "cell_type": "markdown",
   "metadata": {},
   "source": [
    "# Timmy Is Buying Groceries For His Mum\n",
    "\n",
    "Timmy's mum has tasked Timmy with retrieving the groceries necessary for a picnic.\n",
    "\n",
    "The required groceries are milk, bread, cheese, juice, and grapes. Timmy's mum knows that milk is typically 3 - 10 dollars, bread is 1 - 4 dollars, juice is a minimum of 3, and a maximum of the price of milk and bread combined. Cheese is minimally priced at twice the price of bread, and maximally twice the price of milk. Grapes are minimally the price of milk and bread, and maximally the price of cheese.\n",
    "\n",
    "What are both the minimum the maximum amounts of money that Timmy's mum thinks Timmy may need to buy the required groceries?\n",
    "\n",
    "Let $m$ be milk, $b$ be bread, $j$ be juice, $c$ be cheese, $g$ be grapes, and $t$ be the total. The linear system for this problem is given as follows:"
   ]
  },
  {
   "cell_type": "markdown",
   "metadata": {},
   "source": [
    "$$\n",
    "m \\geq 3 \\\\\n",
    "m \\leq 10 \\\\\n",
    "b \\geq 1 \\\\\n",
    "b \\leq 4 \\\\\n",
    "j \\geq 3 \\\\\n",
    "j \\leq m + b \\\\\n",
    "c \\geq 2b \\\\\n",
    "c \\leq 2m \\\\\n",
    "g \\geq m + b \\\\\n",
    "g \\leq c \\\\\n",
    "m + b + c + j + g  = t\n",
    "$$"
   ]
  },
  {
   "cell_type": "code",
   "execution_count": 2,
   "metadata": {},
   "outputs": [
    {
     "name": "stdout",
     "output_type": "stream",
     "text": [
      "The maximum price that can be paid for the groceries is: $ 56.0\n",
      "\n",
      "\n",
      "\t\tPrice of Milk: $ 10.0\n",
      "\t\tPrice of Bread: $ 4.0\n",
      "\t\tPrice of Juice: $ 14.0\n",
      "\t\tPrice of Cheese: $ 14.0\n",
      "\t\tPrice of Grapes: $ 14.0\n",
      "\n",
      "\n",
      "\n",
      "\n",
      "The minimum price that can be paid for the groceries is: $ 16.0\n",
      "\n",
      "\n",
      "\t\tPrice of Milk: $ 3.0\n",
      "\t\tPrice of Bread: $ 1.0\n",
      "\t\tPrice of Juice: $ 4.0\n",
      "\t\tPrice of Cheese: $ 4.0\n",
      "\t\tPrice of Grapes: $ 4.0\n",
      "\n",
      "\n",
      "\n",
      "\n"
     ]
    }
   ],
   "source": [
    "import picos as pic\n",
    "\n",
    "LP  = pic.Problem()\n",
    "\n",
    "milk = LP.add_variable('milk',1)\n",
    "bread = LP.add_variable('bread',1)\n",
    "cheese = LP.add_variable('cheese',1)\n",
    "juice = LP.add_variable('juice',1)\n",
    "grapes = LP.add_variable('grapes',1)\n",
    "total = LP.add_variable('total',1)\n",
    "\n",
    "LP.add_constraint( 1| milk >= 3)\n",
    "LP.add_constraint( 1| milk <= 10)\n",
    "LP.add_constraint( 1| bread >= 1)\n",
    "LP.add_constraint( 1| bread <= 4)\n",
    "LP.add_constraint( 1| juice >= 3)\n",
    "LP.add_constraint( 1| juice <= milk + bread)\n",
    "LP.add_constraint( 1| cheese >= bread*2)\n",
    "LP.add_constraint( 1| cheese <= milk*2)\n",
    "LP.add_constraint( 1| grapes >= milk + bread)\n",
    "LP.add_constraint( 1| grapes <= cheese)\n",
    "LP.add_constraint( 1| total == milk+bread+juice+cheese+grapes)\n",
    "\n",
    "LP.set_objective('max', total)\n",
    "LP.solve(verbose=0)\n",
    "\n",
    "def print_results():\n",
    "    print(\"\\n\")\n",
    "    print(\"\\t\\tPrice of Milk: $\", round(milk,2))\n",
    "    print(\"\\t\\tPrice of Bread: $\", round(bread,2))\n",
    "    print(\"\\t\\tPrice of Juice: $\", round(juice,2))\n",
    "    print(\"\\t\\tPrice of Cheese: $\", round(cheese,2))\n",
    "    print(\"\\t\\tPrice of Grapes: $\", round(grapes,2))\n",
    "    print(\"\\n\\n\\n\")\n",
    "    \n",
    "print(\"The maximum price that can be paid for the groceries is: $\", round(total,2))\n",
    "print_results()\n",
    "\n",
    "LP.set_objective('min', total)\n",
    "LP.solve(verbose=0)\n",
    "print(\"The minimum price that can be paid for the groceries is: $\", round(total,2))\n",
    "print_results()\n",
    "\n"
   ]
  },
  {
   "cell_type": "markdown",
   "metadata": {},
   "source": [
    "# Determining The Classical Bound On A Probabilistic System"
   ]
  },
  {
   "cell_type": "markdown",
   "metadata": {},
   "source": [
    "<img src=\"pairwise.png\" style=\"width:400px;\">"
   ]
  },
  {
   "cell_type": "code",
   "execution_count": 7,
   "metadata": {},
   "outputs": [
    {
     "name": "stdout",
     "output_type": "stream",
     "text": [
      "0.49999999999999994\n",
      "0.5 0.125 0.3125 0.3125\n",
      "0.125 0.25 0.1875 0.1875\n",
      "0.3125 0.1875 0.25 0.25\n",
      "0.3125 0.1875 0.25 0.25\n"
     ]
    }
   ],
   "source": [
    "import picos as pc\n",
    "import cvxopt as cx\n",
    "import qutip as qt\n",
    "import math as mt\n",
    "import cmath as cm\n",
    "LP = pc.Problem()\n",
    "\n",
    "p = [ LP.add_variable('p['+str(i)+']',1) for i in range(16) ]\n",
    "\n",
    "for i in range(16):\n",
    "    LP.add_constraint( 1| p[i] >= 0) \n",
    "    \n",
    "LP.add_constraint( 1| p[0]+p[1]+p[2]+p[3] == 1) \n",
    "LP.add_constraint( 1| p[4]+p[5]+p[6]+p[7] == 1) \n",
    "LP.add_constraint( 1| p[8]+p[9]+p[10]+p[11] == 1) \n",
    "LP.add_constraint( 1| p[12]+p[13]+p[14]+p[15] == 1) \n",
    "\n",
    "LP.add_constraint( 1| p[0]+p[1]+p[6]+p[7] == p[2]+p[3]+p[4]+p[5]) \n",
    "\n",
    "LP.add_constraint( 1| p[8]+p[9]+p[14]+p[15] == p[12]+p[13]+p[10]+p[11]) \n",
    "\n",
    "LP.add_constraint( 1| p[0]+p[2]+p[9]+p[11] == p[1]+p[3]+p[8]+p[10]) \n",
    "\n",
    "LP.add_constraint( 1| p[4]+p[6]+p[13]+p[15] == p[5]+p[7]+p[12]+p[14]) \n",
    "\n",
    "cA1B1 = (p[0]+p[3])-(p[1]+p[2])\n",
    "\n",
    "cA1B2 = (p[4]+p[7])-(p[5]+p[6])\n",
    "\n",
    "cA2B1 = (p[8]+p[11])-(p[9]+p[10])\n",
    "\n",
    "cA2B2 = (p[12]+p[15])-(p[13]+p[14])\n",
    "LP.add_constraint( 1| p[0] == 0.5)\n",
    "\n",
    "\n",
    "#LP.set_objective('max', cA1B1+cA1B2+cA2B1-cA2B2)\n",
    "LP.solve(verbose=0)\n",
    "\n",
    "print(cA1B1+cA1B2+cA2B1-cA2B2)\n",
    "\n",
    "print(round(p[0],4),round(p[1],4),round(p[4],4),round(p[5],4))\n",
    "print(round(p[2],4),round(p[3],4),round(p[6],4),round(p[7],4))\n",
    "print(round(p[8],4),round(p[9],4),round(p[12],4),round(p[13],4))\n",
    "print(round(p[10],4),round(p[11],4),round(p[14],4),round(p[15],4))"
   ]
  },
  {
   "cell_type": "code",
   "execution_count": null,
   "metadata": {},
   "outputs": [],
   "source": []
  }
 ],
 "metadata": {
  "kernelspec": {
   "display_name": "Python 3",
   "language": "python",
   "name": "python3"
  },
  "language_info": {
   "codemirror_mode": {
    "name": "ipython",
    "version": 3
   },
   "file_extension": ".py",
   "mimetype": "text/x-python",
   "name": "python",
   "nbconvert_exporter": "python",
   "pygments_lexer": "ipython3",
   "version": "3.7.4"
  }
 },
 "nbformat": 4,
 "nbformat_minor": 4
}
